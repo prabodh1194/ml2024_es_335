{
 "cells": [
  {
   "cell_type": "markdown",
   "source": [
    "### Q13)\n",
    "Write a function to compute the argmin of a numpy array. The function should take a numpy array as input and return the index of the minimum element. You can use the np.argmin function to verify your solution.\n",
    "\n",
    "### Answer)\n"
   ],
   "metadata": {
    "collapsed": false
   },
   "id": "9a32806cb9a1eea3"
  },
  {
   "cell_type": "code",
   "execution_count": 3,
   "outputs": [],
   "source": [
    "import numpy as np\n",
    "\n",
    "\n",
    "def argmin(x: np.ndarray) -> int:\n",
    "    min = x[0]\n",
    "    min_idx = 0\n",
    "    \n",
    "    for i, v in enumerate(x):\n",
    "        if v < min:\n",
    "            min = v\n",
    "            min_idx = i\n",
    "    \n",
    "    return min_idx\n"
   ],
   "metadata": {
    "collapsed": false,
    "ExecuteTime": {
     "end_time": "2024-01-11T19:37:37.363106Z",
     "start_time": "2024-01-11T19:37:37.356244Z"
    }
   },
   "id": "338e73bc743945d8"
  },
  {
   "cell_type": "code",
   "execution_count": 4,
   "outputs": [
    {
     "name": "stdout",
     "output_type": "stream",
     "text": [
      "('argmin of [0.77639979 0.7743148  0.00436631 0.25170856 0.73965237 '\n",
      " '0.43129582\\n'\n",
      " ' 0.44308674 0.51797274 0.20305483 0.18612959] is 2')\n"
     ]
    }
   ],
   "source": [
    "from pprint import pprint\n",
    "\n",
    "test_array = np.random.rand(10)\n",
    "\n",
    "assert argmin(test_array) == np.argmin(test_array)\n",
    "\n",
    "pprint(f\"argmin of {test_array} is {argmin(test_array)}\")"
   ],
   "metadata": {
    "collapsed": false,
    "ExecuteTime": {
     "end_time": "2024-01-11T19:37:37.372555Z",
     "start_time": "2024-01-11T19:37:37.362670Z"
    }
   },
   "id": "4f777d2482a1184b"
  }
 ],
 "metadata": {
  "kernelspec": {
   "display_name": "Python 3",
   "language": "python",
   "name": "python3"
  },
  "language_info": {
   "codemirror_mode": {
    "name": "ipython",
    "version": 2
   },
   "file_extension": ".py",
   "mimetype": "text/x-python",
   "name": "python",
   "nbconvert_exporter": "python",
   "pygments_lexer": "ipython2",
   "version": "2.7.6"
  }
 },
 "nbformat": 4,
 "nbformat_minor": 5
}
