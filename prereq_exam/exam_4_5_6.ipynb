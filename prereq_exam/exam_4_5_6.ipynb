{
 "cells": [
  {
   "cell_type": "code",
   "execution_count": 1,
   "outputs": [],
   "source": [
    "from pprint import pprint\n",
    "import numpy as np"
   ],
   "metadata": {
    "collapsed": false,
    "ExecuteTime": {
     "end_time": "2024-01-11T18:46:07.534697Z",
     "start_time": "2024-01-11T18:46:07.392836Z"
    }
   },
   "id": "b1a38b87da59910c"
  },
  {
   "cell_type": "markdown",
   "source": [
    "### Q4), Q5), Q6)\n",
    "\n",
    "What is the gradient of the following function with respect to x and y?\n",
    "\\begin{equation}\n",
    "f(x, y) = x^2y + y^3 sin(x)\n",
    "\\end{equation}\n",
    "\n",
    "\n",
    "### Answer)\n",
    "\n",
    "Gradient is the vector of partial derivatives of a function and is supposed to be a vector that points in the direction of greatest increase of a function. The gradient of a function f(x, y) is denoted as $\\nabla f$.\n",
    "\n",
    "The partial derivative of f with respect to x is:\n",
    "\n",
    "\\begin{equation}\n",
    "\\frac{\\partial f}{\\partial x} = 2xy + y^3 cos(x)\n",
    "\\end{equation}\n",
    "\n",
    "The partial derivative of f with respect to y is:\n",
    "\n",
    "\\begin{equation}\n",
    "\\frac{\\partial f}{\\partial y} = x^2 + 3y^2 sin(x)\n",
    "\\end{equation}\n",
    "\n",
    "The gradient of f is:\n",
    "\n",
    "\\begin{equation}\n",
    "\\nabla f = \\left(\\frac{\\partial f}{\\partial x}, \\frac{\\partial f}{\\partial y}\\right) = \\left(2xy + y^3 \\cos(x), x^2 + 3y^2 \\sin(x)\\right)\n",
    "\\end{equation}"
   ],
   "metadata": {
    "collapsed": false
   },
   "id": "964c297bcae3c5ac"
  },
  {
   "cell_type": "code",
   "execution_count": 2,
   "outputs": [
    {
     "name": "stdout",
     "output_type": "stream",
     "text": [
      "(0.7640354132271554, 28.551030524293406)\n",
      "Metal device set to: Apple M1\n"
     ]
    },
    {
     "name": "stderr",
     "output_type": "stream",
     "text": [
      "2024-01-12 00:16:07.942819: W pjrt_plugin/src/mps_client.cc:534] WARNING: JAX Apple GPU support is experimental and not all JAX functionality is correctly supported!\n"
     ]
    },
    {
     "name": "stdout",
     "output_type": "stream",
     "text": [
      "(Array(0.7640343, dtype=float32, weak_type=True),\n",
      " Array(28.55103, dtype=float32, weak_type=True))\n"
     ]
    }
   ],
   "source": [
    "import jax\n",
    "\n",
    "def f(x: int, y: int) -> float:\n",
    "    return x ** 2 * y + y ** 3 * jax.numpy.sin(x)\n",
    "\n",
    "\n",
    "class MyGradient:\n",
    "    @staticmethod\n",
    "    def df_dx(x: int, y: int) -> float:\n",
    "        return 2 * x * y + y ** 3 * np.cos(x)\n",
    "    \n",
    "    @staticmethod\n",
    "    def df_dy(x: int, y: int) -> float:\n",
    "        return x ** 2 + 3 * y ** 2 * np.sin(x)\n",
    "    \n",
    "    def grad(self, x: int, y: int) -> tuple[float, float]:\n",
    "        return self.df_dx(x, y), self.df_dy(x, y)\n",
    "\n",
    "x = 2.0\n",
    "y = 3.0\n",
    "\n",
    "pprint(MyGradient().grad(x, y))\n",
    "pprint(jax.grad(f, argnums=(0, 1))(x, y))"
   ],
   "metadata": {
    "collapsed": false,
    "ExecuteTime": {
     "end_time": "2024-01-11T18:46:08.508442Z",
     "start_time": "2024-01-11T18:46:07.539015Z"
    }
   },
   "id": "df59a394afabd083"
  },
  {
   "cell_type": "code",
   "execution_count": 3,
   "outputs": [
    {
     "name": "stdout",
     "output_type": "stream",
     "text": [
      "Partial derivative with respect to x:\n",
      "2*x*y + y**3*cos(x)\n",
      "\n",
      "Partial derivative with respect to y:\n",
      "x**2 + 3*y**2*sin(x)\n"
     ]
    }
   ],
   "source": [
    "# sympy\n",
    "import sympy as sp\n",
    "\n",
    "# Define symbols\n",
    "x, y = sp.symbols('x y')\n",
    "\n",
    "# Define the function\n",
    "f = x**2 * y + y**3 * sp.sin(x)\n",
    "\n",
    "# Calculate partial derivatives\n",
    "df_dx = sp.diff(f, x)\n",
    "df_dy = sp.diff(f, y)\n",
    "\n",
    "# Display the results\n",
    "print(\"Partial derivative with respect to x:\")\n",
    "print(df_dx)\n",
    "\n",
    "print(\"\\nPartial derivative with respect to y:\")\n",
    "print(df_dy)"
   ],
   "metadata": {
    "collapsed": false,
    "ExecuteTime": {
     "end_time": "2024-01-11T18:49:42.961841Z",
     "start_time": "2024-01-11T18:49:41.007948Z"
    }
   },
   "id": "788a65bfee0cae4d"
  }
 ],
 "metadata": {
  "kernelspec": {
   "display_name": "Python 3 (ipykernel)",
   "language": "python",
   "name": "python3"
  },
  "language_info": {
   "codemirror_mode": {
    "name": "ipython",
    "version": 3
   },
   "file_extension": ".py",
   "mimetype": "text/x-python",
   "name": "python",
   "nbconvert_exporter": "python",
   "pygments_lexer": "ipython3",
   "version": "3.10.13"
  }
 },
 "nbformat": 4,
 "nbformat_minor": 5
}
