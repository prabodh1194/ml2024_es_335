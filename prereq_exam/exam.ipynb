{
 "cells": [
  {
   "cell_type": "markdown",
   "id": "4c3059ff039d3a6e",
   "metadata": {
    "collapsed": false
   },
   "source": [
    "### Q1)\n",
    "\n",
    "How many multiplications and additions do you need to perform a matrix multiplication between a (n, k) and (k, m) matrix? Explain.\n",
    "\n",
    "### Answer)\n",
    "\n",
    "#### Multiplications\n",
    "- Given A (n, k) and B (k, m) matrices.\n",
    "- Row of A & Column of B has k multiplication.\n",
    "- The row is multiplied by all the `m columns` of B, so `k * m` multiplications for a row.\n",
    "- All the `n rows of A` are subjected to the above operation, so `n * k * m` multiplications.\n",
    "\n",
    "\n",
    "#### Additions\n",
    "- Given A (n, k) and B (k, m) matrices.\n",
    "- Row of A & Column of B has k - 1 additions.\n",
    "- The row is multiplied by all the `m columns` of B, so `m * (k - 1)` additions for a row.\n",
    "- All the `n rows of A` are subjected to the above operation, so `n * m * (k - 1)` additions.\n"
   ]
  },
  {
   "cell_type": "markdown",
   "id": "b0cfc0cf2aa4db08",
   "metadata": {
    "collapsed": false
   },
   "source": [
    "### Q2)\n",
    "\n",
    "Write Python code to multiply the above two matrices. Solve using list of lists and then use numpy. Compare the timing of both solutions. Which one is faster? Why?\n",
    "\n",
    "### Answer)"
   ]
  },
  {
   "cell_type": "code",
   "execution_count": 17,
   "id": "46e7b45c70592218",
   "metadata": {
    "ExecuteTime": {
     "end_time": "2024-01-11T03:56:32.819867Z",
     "start_time": "2024-01-11T03:56:32.815707Z"
    }
   },
   "outputs": [],
   "source": [
    "# Define the matrices of n = 5, k = 10, m = 6\n",
    "from random import randint\n",
    "from typing import Sequence\n",
    "\n",
    "A = [[randint(1000, 2000) for _ in range(10)] for _ in range(5)]\n",
    "B = [[randint(1000, 2000) for _ in range(6)] for _ in range(10)]"
   ]
  },
  {
   "cell_type": "code",
   "execution_count": 18,
   "id": "5ec152aff689c5eb",
   "metadata": {
    "ExecuteTime": {
     "end_time": "2024-01-11T03:56:35.157603Z",
     "start_time": "2024-01-11T03:56:35.154084Z"
    }
   },
   "outputs": [
    {
     "name": "stdout",
     "output_type": "stream",
     "text": [
      "[[22575890, 22800707, 23984723, 23744898, 22688090, 19904627],\n",
      " [21936713, 21959146, 23264714, 23062893, 21605418, 19063967],\n",
      " [22710404, 22992604, 23886690, 23793250, 22738238, 19313036],\n",
      " [19801988, 20222719, 21113283, 21226116, 20149875, 16990289],\n",
      " [19439942, 20284745, 20981956, 21474734, 19362069, 17123405]]\n",
      "[array([22575890, 22800707, 23984723, 23744898, 22688090, 19904627]),\n",
      " array([21936713, 21959146, 23264714, 23062893, 21605418, 19063967]),\n",
      " array([22710404, 22992604, 23886690, 23793250, 22738238, 19313036]),\n",
      " array([19801988, 20222719, 21113283, 21226116, 20149875, 16990289]),\n",
      " array([19439942, 20284745, 20981956, 21474734, 19362069, 17123405])]\n"
     ]
    }
   ],
   "source": [
    "from pprint import pprint\n",
    "\n",
    "def matrix_multiplication(A, B):\n",
    "    n = len(A)\n",
    "    k = len(B)\n",
    "    m = len(B[0])\n",
    "\n",
    "    C = [[0 for _ in range(m)] for _ in range(n)]\n",
    "\n",
    "    # row of A\n",
    "    for r in range(n):\n",
    "        # column of B\n",
    "        for c in range(m):\n",
    "            for i in range(k):\n",
    "                C[r][c] += (A[r][i] * B[i][c])\n",
    "\n",
    "    return C\n",
    "\n",
    "\n",
    "def matrix_multiplication_numpy(A, B):\n",
    "    import numpy as np\n",
    "\n",
    "    return np.matmul(A, B)\n",
    "\n",
    "pprint(matrix_multiplication(A, B))\n",
    "pprint(list(matrix_multiplication_numpy(A, B)))"
   ]
  },
  {
   "cell_type": "code",
   "execution_count": 19,
   "id": "ec5088cf1612be91",
   "metadata": {
    "ExecuteTime": {
     "end_time": "2024-01-11T03:56:42.294228Z",
     "start_time": "2024-01-11T03:56:38.139066Z"
    },
    "jupyter": {
     "source_hidden": true
    }
   },
   "outputs": [
    {
     "name": "stdout",
     "output_type": "stream",
     "text": [
      "51 µs ± 1.15 µs per loop (mean ± std. dev. of 7 runs, 10,000 loops each)\n"
     ]
    }
   ],
   "source": [
    "%timeit matrix_multiplication(A, B)"
   ]
  },
  {
   "cell_type": "code",
   "execution_count": 20,
   "id": "e12d18cfa55b6031",
   "metadata": {
    "ExecuteTime": {
     "end_time": "2024-01-11T03:56:50.279150Z",
     "start_time": "2024-01-11T03:56:42.342495Z"
    },
    "jupyter": {
     "source_hidden": true
    }
   },
   "outputs": [
    {
     "name": "stdout",
     "output_type": "stream",
     "text": [
      "9.84 µs ± 98 ns per loop (mean ± std. dev. of 7 runs, 100,000 loops each)\n"
     ]
    }
   ],
   "source": [
    "%timeit matrix_multiplication_numpy(A, B)"
   ]
  },
  {
   "cell_type": "markdown",
   "id": "90ef364e2a93147b",
   "metadata": {
    "collapsed": false
   },
   "source": [
    "Comparing the timing of both solutions, the numpy solution is faster. This is because numpy is implemented in C, which is faster than Python."
   ]
  },
  {
   "cell_type": "markdown",
   "source": [
    "### Q3)\n",
    "\n",
    "Finding the highest element in a list requires one pass of the array. Finding the second highest element requires 2 passes of the the array.\n",
    "\n",
    "1. Using this method, what is the time complexity of finding the median of the array?\n",
    "1. Can you suggest a better method?\n",
    "1. Can you implement both these methods in Python and compare against numpy.median routine in terms of time?\n",
    "\n",
    "\n",
    "### Answer)\n",
    "\n",
    "a) Using this method, the time complexity of finding the median of the array is O(n^2), because it requires n passes of the array.\n",
    "\n",
    "b) A better method is to use the `quickselect algorithm`, which is a selection algorithm to find the k-th smallest element in an unordered list. It is related to the quicksort sorting algorithm.\n"
   ],
   "metadata": {
    "collapsed": false
   },
   "id": "d51774b0488f5b6"
  },
  {
   "cell_type": "code",
   "execution_count": 23,
   "outputs": [
    {
     "name": "stdout",
     "output_type": "stream",
     "text": [
      "1502.0\n",
      "1502.0\n"
     ]
    }
   ],
   "source": [
    "from typing import Sequence\n",
    "import numpy as np\n",
    "\n",
    "\n",
    "def quickselect_median(l: Sequence[int], k: int) -> int:\n",
    "    if len(l) % 2 == 1:\n",
    "        return quickselect(l, len(l) // 2)\n",
    "    else:\n",
    "        return 0.5 * (quickselect(l, len(l) // 2 - 1) + quickselect(l, len(l) // 2))\n",
    "\n",
    "\n",
    "def quickselect(l: Sequence[int], k: int):\n",
    "    if len(l) == 1:\n",
    "        return l[0]\n",
    "\n",
    "    pivot = l[0]\n",
    "    left = [x for x in l if x < pivot]\n",
    "    right = [x for x in l if x > pivot]\n",
    "    middle = [x for x in l if x == pivot]\n",
    "\n",
    "    if k < len(left):\n",
    "        return quickselect(left, k)\n",
    "    elif k < len(left) + len(middle):\n",
    "        return middle[0]\n",
    "    else:\n",
    "        return quickselect(right, k - len(left) - len(middle))\n",
    "\n",
    "\n",
    "def median(l: Sequence[int]) -> int:\n",
    "    return quickselect_median(l, len(l) // 2)\n",
    "\n",
    "\n",
    "arr = [randint(1000, 2000) for _ in range(100000)]\n",
    "\n",
    "pprint(median(arr))\n",
    "pprint(np.median(arr))"
   ],
   "metadata": {
    "collapsed": false,
    "ExecuteTime": {
     "end_time": "2024-01-11T17:09:52.659353Z",
     "start_time": "2024-01-11T17:09:52.583080Z"
    }
   },
   "id": "c549f8d967d1958d"
  },
  {
   "cell_type": "code",
   "execution_count": 24,
   "outputs": [
    {
     "name": "stdout",
     "output_type": "stream",
     "text": [
      "68.9 ms ± 2.3 ms per loop (mean ± std. dev. of 7 runs, 10 loops each)\n"
     ]
    }
   ],
   "source": [
    "%timeit median(arr)"
   ],
   "metadata": {
    "collapsed": false,
    "ExecuteTime": {
     "end_time": "2024-01-11T17:10:29.496182Z",
     "start_time": "2024-01-11T17:10:23.985794Z"
    }
   },
   "id": "87a90dd3fb34e05f"
  },
  {
   "cell_type": "code",
   "execution_count": 25,
   "outputs": [
    {
     "name": "stdout",
     "output_type": "stream",
     "text": [
      "5.08 ms ± 241 µs per loop (mean ± std. dev. of 7 runs, 100 loops each)\n"
     ]
    }
   ],
   "source": [
    "%timeit np.median(arr)"
   ],
   "metadata": {
    "collapsed": false,
    "ExecuteTime": {
     "end_time": "2024-01-11T17:10:33.614224Z",
     "start_time": "2024-01-11T17:10:29.499049Z"
    }
   },
   "id": "9ffea57966b0c069"
  }
 ],
 "metadata": {
  "kernelspec": {
   "display_name": "Python 3 (ipykernel)",
   "language": "python",
   "name": "python3"
  },
  "language_info": {
   "codemirror_mode": {
    "name": "ipython",
    "version": 3
   },
   "file_extension": ".py",
   "mimetype": "text/x-python",
   "name": "python",
   "nbconvert_exporter": "python",
   "pygments_lexer": "ipython3",
   "version": "3.10.13"
  }
 },
 "nbformat": 4,
 "nbformat_minor": 5
}
