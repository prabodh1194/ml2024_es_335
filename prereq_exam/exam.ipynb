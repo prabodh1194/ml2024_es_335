{
 "cells": [
  {
   "cell_type": "markdown",
   "source": [
    "### Q1)\n",
    "\n",
    "How many multiplications and additions do you need to perform a matrix multiplication between a (n, k) and (k, m) matrix? Explain.\n",
    "\n",
    "### Answer)\n",
    "\n",
    "#### Multiplications\n",
    "- Given A (n, k) and B (k, m) matrices.\n",
    "- Row of A & Column of B has k multiplication.\n",
    "- The row is multiplied by all the `m columns` of B, so `k * m` multiplications for a row.\n",
    "- All the `n rows of A` are subjected to the above operation, so `n * k * m` multiplications.\n",
    "\n",
    "\n",
    "#### Additions\n",
    "- Given A (n, k) and B (k, m) matrices.\n",
    "- Row of A & Column of B has k - 1 additions.\n",
    "- The row is multiplied by all the `m columns` of B, so `m * (k - 1)` additions for a row.\n",
    "- All the `n rows of A` are subjected to the above operation, so `n * m * (k - 1)` additions.\n"
   ],
   "metadata": {
    "collapsed": false
   },
   "id": "4c3059ff039d3a6e"
  },
  {
   "cell_type": "markdown",
   "source": [
    "### Q2)\n",
    "\n",
    "Write Python code to multiply the above two matrices. Solve using list of lists and then use numpy. Compare the timing of both solutions. Which one is faster? Why?\n",
    "\n",
    "### Answer)"
   ],
   "metadata": {
    "collapsed": false
   },
   "id": "b0cfc0cf2aa4db08"
  },
  {
   "cell_type": "code",
   "execution_count": 17,
   "outputs": [],
   "source": [
    "# Define the matrices of n = 5, k = 10, m = 6\n",
    "from random import randint\n",
    "\n",
    "A = [[randint(1000, 2000) for _ in range(10)] for _ in range(5)]\n",
    "B = [[randint(1000, 2000) for _ in range(6)] for _ in range(10)]"
   ],
   "metadata": {
    "collapsed": false,
    "ExecuteTime": {
     "end_time": "2024-01-11T03:56:32.819867Z",
     "start_time": "2024-01-11T03:56:32.815707Z"
    }
   },
   "id": "46e7b45c70592218"
  },
  {
   "cell_type": "code",
   "execution_count": 18,
   "outputs": [
    {
     "name": "stdout",
     "output_type": "stream",
     "text": [
      "[[22575890, 22800707, 23984723, 23744898, 22688090, 19904627],\n",
      " [21936713, 21959146, 23264714, 23062893, 21605418, 19063967],\n",
      " [22710404, 22992604, 23886690, 23793250, 22738238, 19313036],\n",
      " [19801988, 20222719, 21113283, 21226116, 20149875, 16990289],\n",
      " [19439942, 20284745, 20981956, 21474734, 19362069, 17123405]]\n",
      "[array([22575890, 22800707, 23984723, 23744898, 22688090, 19904627]),\n",
      " array([21936713, 21959146, 23264714, 23062893, 21605418, 19063967]),\n",
      " array([22710404, 22992604, 23886690, 23793250, 22738238, 19313036]),\n",
      " array([19801988, 20222719, 21113283, 21226116, 20149875, 16990289]),\n",
      " array([19439942, 20284745, 20981956, 21474734, 19362069, 17123405])]\n"
     ]
    }
   ],
   "source": [
    "from pprint import pprint\n",
    "\n",
    "def matrix_multiplication(A, B):\n",
    "    n = len(A)\n",
    "    k = len(B)\n",
    "    m = len(B[0])\n",
    "\n",
    "    C = [[0 for _ in range(m)] for _ in range(n)]\n",
    "\n",
    "    # row of A\n",
    "    for r in range(n):\n",
    "        # column of B\n",
    "        for c in range(m):\n",
    "            for i in range(k):\n",
    "                C[r][c] += (A[r][i] * B[i][c])\n",
    "\n",
    "    return C\n",
    "\n",
    "\n",
    "def matrix_multiplication_numpy(A, B):\n",
    "    import numpy as np\n",
    "\n",
    "    return np.matmul(A, B)\n",
    "\n",
    "pprint(matrix_multiplication(A, B))\n",
    "pprint(list(matrix_multiplication_numpy(A, B)))"
   ],
   "metadata": {
    "collapsed": false,
    "ExecuteTime": {
     "end_time": "2024-01-11T03:56:35.157603Z",
     "start_time": "2024-01-11T03:56:35.154084Z"
    }
   },
   "id": "5ec152aff689c5eb"
  },
  {
   "cell_type": "code",
   "execution_count": 19,
   "outputs": [
    {
     "name": "stdout",
     "output_type": "stream",
     "text": [
      "51 µs ± 1.15 µs per loop (mean ± std. dev. of 7 runs, 10,000 loops each)\n"
     ]
    }
   ],
   "source": [
    "%timeit matrix_multiplication(A, B)"
   ],
   "metadata": {
    "collapsed": false,
    "ExecuteTime": {
     "end_time": "2024-01-11T03:56:42.294228Z",
     "start_time": "2024-01-11T03:56:38.139066Z"
    }
   },
   "id": "ec5088cf1612be91"
  },
  {
   "cell_type": "code",
   "execution_count": 20,
   "outputs": [
    {
     "name": "stdout",
     "output_type": "stream",
     "text": [
      "9.84 µs ± 98 ns per loop (mean ± std. dev. of 7 runs, 100,000 loops each)\n"
     ]
    }
   ],
   "source": [
    "%timeit matrix_multiplication_numpy(A, B)"
   ],
   "metadata": {
    "collapsed": false,
    "ExecuteTime": {
     "end_time": "2024-01-11T03:56:50.279150Z",
     "start_time": "2024-01-11T03:56:42.342495Z"
    }
   },
   "id": "e12d18cfa55b6031"
  },
  {
   "cell_type": "markdown",
   "source": [
    "Comparing the timing of both solutions, the numpy solution is faster. This is because numpy is implemented in C, which is faster than Python."
   ],
   "metadata": {
    "collapsed": false
   },
   "id": "90ef364e2a93147b"
  }
 ],
 "metadata": {
  "kernelspec": {
   "display_name": "Python 3",
   "language": "python",
   "name": "python3"
  },
  "language_info": {
   "codemirror_mode": {
    "name": "ipython",
    "version": 2
   },
   "file_extension": ".py",
   "mimetype": "text/x-python",
   "name": "python",
   "nbconvert_exporter": "python",
   "pygments_lexer": "ipython2",
   "version": "2.7.6"
  }
 },
 "nbformat": 4,
 "nbformat_minor": 5
}
