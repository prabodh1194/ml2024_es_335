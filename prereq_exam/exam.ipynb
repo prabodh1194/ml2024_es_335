{
 "cells": [
  {
   "cell_type": "markdown",
   "source": [
    "Q1) How many multiplications and additions do you need to perform a matrix multiplication between a (n, k) and (k, m) matrix? Explain.\n",
    "\n",
    "Answer)\n",
    "\n",
    "### Multiplications\n",
    "- Given A (n, k) and B (k, m) matrices.\n",
    "- Row of A & Column of B has k multiplication.\n",
    "- The row is multiplied by all the `m columns` of B, so `k * m` multiplications for a row.\n",
    "- All the `n rows of A` are subjected to the above operation, so `n * k * m` multiplications.\n",
    "\n",
    "\n",
    "### Additions\n",
    "- Given A (n, k) and B (k, m) matrices.\n",
    "- Row of A & Column of B has k - 1 additions.\n",
    "- The row is multiplied by all the `m columns` of B, so `m * (k - 1)` additions for a row.\n",
    "- All the `n rows of A` are subjected to the above operation, so `n * m * (k - 1)` additions.\n"
   ],
   "metadata": {
    "collapsed": false
   },
   "id": "4c3059ff039d3a6e"
  },
  {
   "cell_type": "code",
   "execution_count": null,
   "outputs": [],
   "source": [],
   "metadata": {
    "collapsed": false
   },
   "id": "4b686cea9b09915f"
  }
 ],
 "metadata": {
  "kernelspec": {
   "display_name": "Python 3",
   "language": "python",
   "name": "python3"
  },
  "language_info": {
   "codemirror_mode": {
    "name": "ipython",
    "version": 2
   },
   "file_extension": ".py",
   "mimetype": "text/x-python",
   "name": "python",
   "nbconvert_exporter": "python",
   "pygments_lexer": "ipython2",
   "version": "2.7.6"
  }
 },
 "nbformat": 4,
 "nbformat_minor": 5
}
