{
 "cells": [
  {
   "cell_type": "markdown",
   "source": [
    "### Q7), Q8)\n",
    "\n",
    "Create a Python nested dictionary to represent hierarchical information. We want to store record of students and their marks. Something like:\n",
    "\n",
    "- 2022\n",
    "  - Branch 1\n",
    "    - Roll Number: 1, Name: N, Marks: Maths: 100, English: 70 …\n",
    "  - Branch 2\n",
    "- 2023\n",
    "  - Branch 1\n",
    "  - Branch 2\n",
    "- 2024\n",
    "  - Branch 1\n",
    "  - Branch 2\n",
    "- 2025\n",
    "  - Branch 1\n",
    "  - Branch 2\n",
    "\n",
    "\n",
    "### Answer)"
   ],
   "metadata": {
    "collapsed": false
   },
   "id": "a6033edde2e45419"
  },
  {
   "cell_type": "code",
   "execution_count": null,
   "outputs": [],
   "source": [
    "d = {\n",
    "    2022: {\n",
    "        \"Branch 1\": {\n",
    "            \"Roll Number\": 1,\n",
    "            \"Name\": \"N\",\n",
    "            \"Marks\": {\n",
    "                \"Maths\": 100,\n",
    "                \"English\": 70\n",
    "            }\n",
    "        },\n",
    "        \"Branch 2\": {}\n",
    "    },\n",
    "    2023: {\n",
    "        \"Branch 1\": {},\n",
    "        \"Branch 2\": {}\n",
    "    },\n",
    "    2024: {\n",
    "        \"Branch 1\": {},\n",
    "        \"Branch 2\": {}\n",
    "    },\n",
    "    2025: {\n",
    "        \"Branch 1\": {},\n",
    "        \"Branch 2\": {}\n",
    "    }\n",
    "}\n"
   ],
   "metadata": {
    "collapsed": false
   },
   "id": "daf9ffbbaa65f661"
  },
  {
   "cell_type": "markdown",
   "source": [
    "### Q8)\n",
    "\n",
    "Store the same information using Python classes. We have an overall database which is a list of year objects. Each year contains a list of branches. Each branch contains a list of students. Each student has some properties like name, roll number and has marks in some subjects.\n",
    "\n",
    "\n",
    "### Answer)"
   ],
   "metadata": {
    "collapsed": false
   },
   "id": "caff6497652530be"
  },
  {
   "cell_type": "code",
   "execution_count": null,
   "outputs": [],
   "source": [
    "from dataclasses import dataclass\n",
    "\n",
    "@dataclass\n",
    "class Marks:\n",
    "    subject: str\n",
    "    marks: int\n",
    "\n",
    "@dataclass\n",
    "class Student:\n",
    "    name: str\n",
    "    roll_number: int\n",
    "    marks: list[Marks]\n",
    "\n",
    "\n",
    "@dataclass\n",
    "class Branch:\n",
    "    name: str\n",
    "    students: list[Student]\n",
    "\n",
    "\n",
    "@dataclass\n",
    "class Year:\n",
    "    year: int\n",
    "    branches: list[Branch]"
   ],
   "metadata": {
    "collapsed": false
   },
   "id": "552a49fb2c3d6cf7"
  }
 ],
 "metadata": {
  "kernelspec": {
   "display_name": "Python 3",
   "language": "python",
   "name": "python3"
  },
  "language_info": {
   "codemirror_mode": {
    "name": "ipython",
    "version": 2
   },
   "file_extension": ".py",
   "mimetype": "text/x-python",
   "name": "python",
   "nbconvert_exporter": "python",
   "pygments_lexer": "ipython2",
   "version": "2.7.6"
  }
 },
 "nbformat": 4,
 "nbformat_minor": 5
}
