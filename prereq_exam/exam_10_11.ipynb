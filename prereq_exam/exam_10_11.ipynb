{
 "cells": [
  {
   "cell_type": "markdown",
   "source": [
    "### Q10)\n",
    "\n",
    "Using numpy generate a matrix of size 20X5 containing random numbers drawn uniformly from the range of 1 to 2. Using Pandas create a dataframe out of this matrix. Name the columns of the dataframe as “a”, “b”, “c”, “d”, “e”. Find the column with the highest standard deviation. Find the row with the lowest mean.\n",
    "\n",
    "### Answer)"
   ],
   "metadata": {
    "collapsed": false
   },
   "id": "b9a35152a9d851d4"
  },
  {
   "cell_type": "code",
   "execution_count": 3,
   "outputs": [
    {
     "name": "stdout",
     "output_type": "stream",
     "text": [
      "           a         b         c         d         e\n",
      "0   1.082922  1.493870  1.493582  1.755893  1.927939\n",
      "1   1.058282  1.597555  1.231289  1.270403  1.091431\n",
      "2   1.970065  1.910264  1.068651  1.547182  1.660060\n",
      "3   1.416559  1.598015  1.579127  1.932624  1.819602\n",
      "4   1.389305  1.776793  1.513664  1.752645  1.338680\n",
      "5   1.598665  1.908712  1.365193  1.139806  1.961337\n",
      "6   1.776230  1.634339  1.588399  1.617365  1.942467\n",
      "7   1.506737  1.591826  1.962264  1.328139  1.543828\n",
      "8   1.420772  1.455717  1.524397  1.189643  1.004226\n",
      "9   1.833271  1.954242  1.625238  1.173863  1.972543\n",
      "10  1.555762  1.481796  1.473612  1.680107  1.300349\n",
      "11  1.616160  1.380869  1.142362  1.522709  1.339040\n",
      "12  1.553375  1.506784  1.293662  1.815405  1.775011\n",
      "13  1.172015  1.863834  1.016019  1.040598  1.945523\n",
      "14  1.480762  1.367298  1.048659  1.056533  1.346410\n",
      "15  1.165995  1.435670  1.814016  1.776115  1.411580\n",
      "16  1.212701  1.947536  1.217953  1.426076  1.014591\n",
      "17  1.768477  1.917185  1.089553  1.530796  1.357479\n",
      "18  1.804172  1.246837  1.239068  1.813628  1.279679\n",
      "19  1.958558  1.847247  1.023492  1.891229  1.850750\n",
      "'Column with highest standard deviation: e'\n",
      "'Row with lowest mean: 1'\n"
     ]
    }
   ],
   "source": [
    "from pprint import pprint\n",
    "import numpy as np\n",
    "import pandas as pd\n",
    "\n",
    "m = np.random.uniform(1,2,(20,5))\n",
    "\n",
    "df = pd.DataFrame(m, columns=['a','b','c','d','e'])\n",
    "\n",
    "pprint(df)\n",
    "\n",
    "pprint(\"Column with highest standard deviation: %s\" % df.std().idxmax())\n",
    "\n",
    "pprint(\"Row with lowest mean: %s\" % df.mean(axis=1).idxmin())"
   ],
   "metadata": {
    "collapsed": false,
    "ExecuteTime": {
     "end_time": "2024-01-11T19:27:23.132644Z",
     "start_time": "2024-01-11T19:27:23.121066Z"
    }
   },
   "id": "189ae70511da3f2"
  },
  {
   "cell_type": "markdown",
   "source": [
    "### Q11)\n",
    "\n",
    "Add a new column to the dataframe called “f” which is the sum of the columns “a”, “b”, “c”, “d”, “e”. Create another column called “g”. The value in the column “g” should be “LT8” if the value in the column “f” is less than 8 and “GT8” otherwise. Find the number of rows in the dataframe where the value in the column “g” is “LT8”. Find the standard deviation of the column “f” for the rows where the value in the column “g” is “LT8” and “GT8” respectively.\n",
    "\n",
    "### Answer)"
   ],
   "metadata": {
    "collapsed": false
   },
   "id": "389c478aac3ca6fb"
  },
  {
   "cell_type": "code",
   "execution_count": 4,
   "outputs": [
    {
     "name": "stdout",
     "output_type": "stream",
     "text": [
      "           a         b         c         d         e         f    g\n",
      "0   1.082922  1.493870  1.493582  1.755893  1.927939  7.754207  LT8\n",
      "1   1.058282  1.597555  1.231289  1.270403  1.091431  6.248961  LT8\n",
      "2   1.970065  1.910264  1.068651  1.547182  1.660060  8.156222  GT8\n",
      "3   1.416559  1.598015  1.579127  1.932624  1.819602  8.345926  GT8\n",
      "4   1.389305  1.776793  1.513664  1.752645  1.338680  7.771088  LT8\n",
      "5   1.598665  1.908712  1.365193  1.139806  1.961337  7.973713  LT8\n",
      "6   1.776230  1.634339  1.588399  1.617365  1.942467  8.558800  GT8\n",
      "7   1.506737  1.591826  1.962264  1.328139  1.543828  7.932794  LT8\n",
      "8   1.420772  1.455717  1.524397  1.189643  1.004226  6.594755  LT8\n",
      "9   1.833271  1.954242  1.625238  1.173863  1.972543  8.559157  GT8\n",
      "10  1.555762  1.481796  1.473612  1.680107  1.300349  7.491627  LT8\n",
      "11  1.616160  1.380869  1.142362  1.522709  1.339040  7.001140  LT8\n",
      "12  1.553375  1.506784  1.293662  1.815405  1.775011  7.944238  LT8\n",
      "13  1.172015  1.863834  1.016019  1.040598  1.945523  7.037988  LT8\n",
      "14  1.480762  1.367298  1.048659  1.056533  1.346410  6.299661  LT8\n",
      "15  1.165995  1.435670  1.814016  1.776115  1.411580  7.603377  LT8\n",
      "16  1.212701  1.947536  1.217953  1.426076  1.014591  6.818857  LT8\n",
      "17  1.768477  1.917185  1.089553  1.530796  1.357479  7.663490  LT8\n",
      "18  1.804172  1.246837  1.239068  1.813628  1.279679  7.383384  LT8\n",
      "19  1.958558  1.847247  1.023492  1.891229  1.850750  8.571277  GT8\n",
      "'Number of rows where g is LT8: 15'\n",
      "'Standard deviation of f where g is LT8: 0.5950749360945466'\n",
      "'Standard deviation of f where g is GT8: 0.18365089080926797'\n"
     ]
    }
   ],
   "source": [
    "df = df.assign(f=df.sum(axis=1))\n",
    "\n",
    "df = df.assign(g=np.where(df['f'] < 8, 'LT8', 'GT8'))\n",
    "\n",
    "pprint(df)\n",
    "\n",
    "pprint(\"Number of rows where g is LT8: %s\" % df[df['g'] == 'LT8'].shape[0])\n",
    "\n",
    "pprint(\"Standard deviation of f where g is LT8: %s\" % df[df['g'] == 'LT8']['f'].std())\n",
    "pprint(\"Standard deviation of f where g is GT8: %s\" % df[df['g'] == 'GT8']['f'].std())"
   ],
   "metadata": {
    "collapsed": false,
    "ExecuteTime": {
     "end_time": "2024-01-11T19:29:45.655354Z",
     "start_time": "2024-01-11T19:29:45.626781Z"
    }
   },
   "id": "2fb0e077b3f71c4b"
  },
  {
   "cell_type": "code",
   "execution_count": null,
   "outputs": [],
   "source": [],
   "metadata": {
    "collapsed": false
   },
   "id": "302b620780a61068"
  }
 ],
 "metadata": {
  "kernelspec": {
   "display_name": "Python 3",
   "language": "python",
   "name": "python3"
  },
  "language_info": {
   "codemirror_mode": {
    "name": "ipython",
    "version": 2
   },
   "file_extension": ".py",
   "mimetype": "text/x-python",
   "name": "python",
   "nbconvert_exporter": "python",
   "pygments_lexer": "ipython2",
   "version": "2.7.6"
  }
 },
 "nbformat": 4,
 "nbformat_minor": 5
}
