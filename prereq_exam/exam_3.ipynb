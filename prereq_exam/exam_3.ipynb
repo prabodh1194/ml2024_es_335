{
 "cells": [
  {
   "cell_type": "code",
   "execution_count": 1,
   "outputs": [],
   "source": [
    "from pprint import pprint\n",
    "import numpy as np"
   ],
   "metadata": {
    "collapsed": false,
    "ExecuteTime": {
     "end_time": "2024-01-11T18:45:33.755925Z",
     "start_time": "2024-01-11T18:45:33.627578Z"
    }
   },
   "id": "b1a38b87da59910c"
  },
  {
   "cell_type": "markdown",
   "source": [
    "### Q3)\n",
    "\n",
    "Finding the highest element in a list requires one pass of the array. Finding the second highest element requires 2 passes of the the array.\n",
    "\n",
    "1. Using this method, what is the time complexity of finding the median of the array?\n",
    "1. Can you suggest a better method?\n",
    "1. Can you implement both these methods in Python and compare against numpy.median routine in terms of time?\n",
    "\n",
    "\n",
    "### Answer)\n",
    "\n",
    "a) Using this method, the time complexity of finding the median of the array is O(n^2), because it requires n passes of the array.\n",
    "\n",
    "b) A better method is to use the `quickselect algorithm`, which is a selection algorithm to find the k-th smallest element in an unordered list. It is related to the quicksort sorting algorithm.\n"
   ],
   "metadata": {
    "collapsed": false
   },
   "id": "d51774b0488f5b6"
  },
  {
   "cell_type": "code",
   "execution_count": 2,
   "outputs": [
    {
     "name": "stdout",
     "output_type": "stream",
     "text": [
      "1501.0\n",
      "1501.0\n"
     ]
    }
   ],
   "source": [
    "from random import randint\n",
    "from typing import Sequence\n",
    "\n",
    "\n",
    "def quickselect_median(l: Sequence[int], k: int) -> int:\n",
    "    if len(l) % 2 == 1:\n",
    "        return quickselect(l, len(l) // 2)\n",
    "    else:\n",
    "        return 0.5 * (quickselect(l, len(l) // 2 - 1) + quickselect(l, len(l) // 2))\n",
    "\n",
    "\n",
    "def quickselect(l: Sequence[int], k: int):\n",
    "    if len(l) == 1:\n",
    "        return l[0]\n",
    "\n",
    "    pivot = l[0]\n",
    "    left = [x for x in l if x < pivot]\n",
    "    right = [x for x in l if x > pivot]\n",
    "    middle = [x for x in l if x == pivot]\n",
    "\n",
    "    if k < len(left):\n",
    "        return quickselect(left, k)\n",
    "    elif k < len(left) + len(middle):\n",
    "        return middle[0]\n",
    "    else:\n",
    "        return quickselect(right, k - len(left) - len(middle))\n",
    "\n",
    "\n",
    "def median(l: Sequence[int]) -> int:\n",
    "    return quickselect_median(l, len(l) // 2)\n",
    "\n",
    "\n",
    "arr = [randint(1000, 2000) for _ in range(100000)]\n",
    "\n",
    "pprint(median(arr))\n",
    "pprint(np.median(arr))"
   ],
   "metadata": {
    "collapsed": false,
    "ExecuteTime": {
     "end_time": "2024-01-11T18:45:33.965874Z",
     "start_time": "2024-01-11T18:45:33.780160Z"
    }
   },
   "id": "c549f8d967d1958d"
  },
  {
   "cell_type": "code",
   "execution_count": 3,
   "outputs": [
    {
     "name": "stdout",
     "output_type": "stream",
     "text": [
      "64.1 ms ± 1.64 ms per loop (mean ± std. dev. of 7 runs, 10 loops each)\n"
     ]
    }
   ],
   "source": [
    "%timeit median(arr)"
   ],
   "metadata": {
    "collapsed": false,
    "ExecuteTime": {
     "end_time": "2024-01-11T18:45:39.186891Z",
     "start_time": "2024-01-11T18:45:33.963243Z"
    }
   },
   "id": "87a90dd3fb34e05f"
  },
  {
   "cell_type": "code",
   "execution_count": 4,
   "outputs": [
    {
     "name": "stdout",
     "output_type": "stream",
     "text": [
      "4.89 ms ± 15.5 µs per loop (mean ± std. dev. of 7 runs, 100 loops each)\n"
     ]
    }
   ],
   "source": [
    "%timeit np.median(arr)"
   ],
   "metadata": {
    "collapsed": false,
    "ExecuteTime": {
     "end_time": "2024-01-11T18:45:43.163993Z",
     "start_time": "2024-01-11T18:45:39.188938Z"
    }
   },
   "id": "9ffea57966b0c069"
  }
 ],
 "metadata": {
  "kernelspec": {
   "display_name": "Python 3 (ipykernel)",
   "language": "python",
   "name": "python3"
  },
  "language_info": {
   "codemirror_mode": {
    "name": "ipython",
    "version": 3
   },
   "file_extension": ".py",
   "mimetype": "text/x-python",
   "name": "python",
   "nbconvert_exporter": "python",
   "pygments_lexer": "ipython3",
   "version": "3.10.13"
  }
 },
 "nbformat": 4,
 "nbformat_minor": 5
}
