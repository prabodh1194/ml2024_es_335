{
 "cells": [
  {
   "cell_type": "markdown",
   "source": [
    "### Q12)\n",
    "\n",
    "Write a small piece of code to explain broadcasting in numpy.\n",
    "\n",
    "#### Answer)\n",
    "Broadcasting is a powerful mechanism that allows numpy to work with arrays of different shapes when performing arithmetic operations. Frequently we have a smaller array and a larger array, and we want to use the smaller array multiple times to perform some operation on the larger array. Broadcasting lets numpy use C to perform vectorized operations on arrays of different sizes."
   ],
   "metadata": {
    "collapsed": false
   },
   "id": "ff7790b65cb8a54"
  },
  {
   "cell_type": "code",
   "execution_count": null,
   "outputs": [],
   "source": [
    "import numpy as np\n",
    "\n",
    "a = np.array([1, 2, 3])\n",
    "\n",
    "b = np.array([2, 2, 2])\n",
    "\n",
    "a * b\n"
   ],
   "metadata": {
    "collapsed": false
   },
   "id": "53327f79ff6926ff"
  }
 ],
 "metadata": {
  "kernelspec": {
   "display_name": "Python 3",
   "language": "python",
   "name": "python3"
  },
  "language_info": {
   "codemirror_mode": {
    "name": "ipython",
    "version": 2
   },
   "file_extension": ".py",
   "mimetype": "text/x-python",
   "name": "python",
   "nbconvert_exporter": "python",
   "pygments_lexer": "ipython2",
   "version": "2.7.6"
  }
 },
 "nbformat": 4,
 "nbformat_minor": 5
}
