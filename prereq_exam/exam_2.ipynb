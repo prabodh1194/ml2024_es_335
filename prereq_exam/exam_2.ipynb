{
 "cells": [
  {
   "cell_type": "code",
   "execution_count": 1,
   "outputs": [],
   "source": [
    "from pprint import pprint"
   ],
   "metadata": {
    "collapsed": false,
    "ExecuteTime": {
     "end_time": "2024-01-11T18:44:33.069537Z",
     "start_time": "2024-01-11T18:44:33.066537Z"
    }
   },
   "id": "b1a38b87da59910c"
  },
  {
   "cell_type": "markdown",
   "id": "b0cfc0cf2aa4db08",
   "metadata": {
    "collapsed": false
   },
   "source": [
    "### Q2)\n",
    "\n",
    "Write Python code to multiply the above two matrices. Solve using list of lists and then use numpy. Compare the timing of both solutions. Which one is faster? Why?\n",
    "\n",
    "### Answer)"
   ]
  },
  {
   "cell_type": "code",
   "execution_count": 2,
   "id": "46e7b45c70592218",
   "metadata": {
    "ExecuteTime": {
     "end_time": "2024-01-11T18:44:33.075812Z",
     "start_time": "2024-01-11T18:44:33.071166Z"
    }
   },
   "outputs": [],
   "source": [
    "# Define the matrices of n = 5, k = 10, m = 6\n",
    "from random import randint\n",
    "\n",
    "A = [[randint(1000, 2000) for _ in range(10)] for _ in range(5)]\n",
    "B = [[randint(1000, 2000) for _ in range(6)] for _ in range(10)]"
   ]
  },
  {
   "cell_type": "code",
   "execution_count": 3,
   "id": "5ec152aff689c5eb",
   "metadata": {
    "ExecuteTime": {
     "end_time": "2024-01-11T18:44:33.223337Z",
     "start_time": "2024-01-11T18:44:33.077633Z"
    }
   },
   "outputs": [
    {
     "name": "stdout",
     "output_type": "stream",
     "text": [
      "[[22391732, 21971908, 21512835, 21513264, 22808529, 22212048],\n",
      " [24125480, 23241538, 23313032, 23451906, 24427646, 24065514],\n",
      " [23495361, 22606788, 22523128, 21846148, 22922905, 23276011],\n",
      " [25198259, 24109855, 24005631, 23931232, 25129453, 24510346],\n",
      " [24622096, 23476562, 23493167, 23401071, 24266989, 24224933]]\n",
      "[array([22391732, 21971908, 21512835, 21513264, 22808529, 22212048]),\n",
      " array([24125480, 23241538, 23313032, 23451906, 24427646, 24065514]),\n",
      " array([23495361, 22606788, 22523128, 21846148, 22922905, 23276011]),\n",
      " array([25198259, 24109855, 24005631, 23931232, 25129453, 24510346]),\n",
      " array([24622096, 23476562, 23493167, 23401071, 24266989, 24224933])]\n"
     ]
    }
   ],
   "source": [
    "def matrix_multiplication(A, B):\n",
    "    n = len(A)\n",
    "    k = len(B)\n",
    "    m = len(B[0])\n",
    "\n",
    "    C = [[0 for _ in range(m)] for _ in range(n)]\n",
    "\n",
    "    # row of A\n",
    "    for r in range(n):\n",
    "        # column of B\n",
    "        for c in range(m):\n",
    "            for i in range(k):\n",
    "                C[r][c] += (A[r][i] * B[i][c])\n",
    "\n",
    "    return C\n",
    "\n",
    "\n",
    "def matrix_multiplication_numpy(A, B):\n",
    "    import numpy as np\n",
    "\n",
    "    return np.matmul(A, B)\n",
    "\n",
    "pprint(matrix_multiplication(A, B))\n",
    "pprint(list(matrix_multiplication_numpy(A, B)))"
   ]
  },
  {
   "cell_type": "code",
   "execution_count": 4,
   "id": "ec5088cf1612be91",
   "metadata": {
    "jupyter": {
     "source_hidden": true
    },
    "ExecuteTime": {
     "end_time": "2024-01-11T18:44:37.212256Z",
     "start_time": "2024-01-11T18:44:33.339226Z"
    }
   },
   "outputs": [
    {
     "name": "stdout",
     "output_type": "stream",
     "text": [
      "48.3 µs ± 1.07 µs per loop (mean ± std. dev. of 7 runs, 10,000 loops each)\n"
     ]
    }
   ],
   "source": [
    "%timeit matrix_multiplication(A, B)"
   ]
  },
  {
   "cell_type": "code",
   "execution_count": 5,
   "id": "e12d18cfa55b6031",
   "metadata": {
    "jupyter": {
     "source_hidden": true
    },
    "ExecuteTime": {
     "end_time": "2024-01-11T18:44:45.185069Z",
     "start_time": "2024-01-11T18:44:37.210033Z"
    }
   },
   "outputs": [
    {
     "name": "stdout",
     "output_type": "stream",
     "text": [
      "9.81 µs ± 34.2 ns per loop (mean ± std. dev. of 7 runs, 100,000 loops each)\n"
     ]
    }
   ],
   "source": [
    "%timeit matrix_multiplication_numpy(A, B)"
   ]
  },
  {
   "cell_type": "markdown",
   "id": "90ef364e2a93147b",
   "metadata": {
    "collapsed": false
   },
   "source": [
    "Comparing the timing of both solutions, the numpy solution is faster. This is because numpy is implemented in C, which is faster than Python."
   ]
  }
 ],
 "metadata": {
  "kernelspec": {
   "display_name": "Python 3 (ipykernel)",
   "language": "python",
   "name": "python3"
  },
  "language_info": {
   "codemirror_mode": {
    "name": "ipython",
    "version": 3
   },
   "file_extension": ".py",
   "mimetype": "text/x-python",
   "name": "python",
   "nbconvert_exporter": "python",
   "pygments_lexer": "ipython3",
   "version": "3.10.13"
  }
 },
 "nbformat": 4,
 "nbformat_minor": 5
}
